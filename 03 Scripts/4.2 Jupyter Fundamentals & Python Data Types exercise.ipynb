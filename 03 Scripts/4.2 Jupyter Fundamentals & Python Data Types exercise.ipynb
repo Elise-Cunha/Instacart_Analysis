{
 "cells": [
  {
   "cell_type": "markdown",
   "id": "63ca72a6",
   "metadata": {},
   "source": [
    "# 4.2: Jupyter Fundamentals & Python Data Types"
   ]
  },
  {
   "cell_type": "markdown",
   "id": "a3f62751",
   "metadata": {},
   "source": [
    "# import the pandas, NumPy, and os libraries"
   ]
  },
  {
   "cell_type": "code",
   "execution_count": null,
   "id": "ea0c8c01",
   "metadata": {},
   "outputs": [],
   "source": []
  },
  {
   "cell_type": "code",
   "execution_count": 1,
   "id": "985ac251",
   "metadata": {},
   "outputs": [],
   "source": [
    "# Import libraries\n",
    "import pandas as pd\n",
    "import numpy as np\n",
    "import os"
   ]
  },
  {
   "cell_type": "code",
   "execution_count": 14,
   "id": "3517da0c",
   "metadata": {},
   "outputs": [],
   "source": [
    "# addition and subtraction"
   ]
  },
  {
   "cell_type": "code",
   "execution_count": 4,
   "id": "638f90d8",
   "metadata": {},
   "outputs": [],
   "source": [
    "x=50"
   ]
  },
  {
   "cell_type": "code",
   "execution_count": 5,
   "id": "55d22697",
   "metadata": {},
   "outputs": [],
   "source": [
    "y=150"
   ]
  },
  {
   "cell_type": "code",
   "execution_count": 6,
   "id": "dee1d6b4",
   "metadata": {},
   "outputs": [],
   "source": [
    "z=20"
   ]
  },
  {
   "cell_type": "code",
   "execution_count": 7,
   "id": "3827d4b5",
   "metadata": {},
   "outputs": [],
   "source": [
    "w=30"
   ]
  },
  {
   "cell_type": "code",
   "execution_count": 8,
   "id": "037f333c",
   "metadata": {},
   "outputs": [
    {
     "data": {
      "text/plain": [
       "100"
      ]
     },
     "execution_count": 8,
     "metadata": {},
     "output_type": "execute_result"
    }
   ],
   "source": [
    "x+z+w"
   ]
  },
  {
   "cell_type": "code",
   "execution_count": 9,
   "id": "22d6af87",
   "metadata": {},
   "outputs": [
    {
     "name": "stdout",
     "output_type": "stream",
     "text": [
      "<class 'type'>\n"
     ]
    }
   ],
   "source": [
    "print (type)"
   ]
  },
  {
   "cell_type": "code",
   "execution_count": 10,
   "id": "20ed98e4",
   "metadata": {},
   "outputs": [
    {
     "name": "stdout",
     "output_type": "stream",
     "text": [
      "50\n"
     ]
    }
   ],
   "source": [
    "print(x)"
   ]
  },
  {
   "cell_type": "code",
   "execution_count": 18,
   "id": "5d59d49b",
   "metadata": {},
   "outputs": [
    {
     "data": {
      "text/plain": [
       "int"
      ]
     },
     "execution_count": 18,
     "metadata": {},
     "output_type": "execute_result"
    }
   ],
   "source": [
    "type(100)"
   ]
  },
  {
   "cell_type": "code",
   "execution_count": 19,
   "id": "f64de93f",
   "metadata": {},
   "outputs": [
    {
     "name": "stdout",
     "output_type": "stream",
     "text": [
      "150\n"
     ]
    }
   ],
   "source": [
    "print(y)"
   ]
  },
  {
   "cell_type": "code",
   "execution_count": 20,
   "id": "c38dc6c1",
   "metadata": {},
   "outputs": [
    {
     "data": {
      "text/plain": [
       "-700"
      ]
     },
     "execution_count": 20,
     "metadata": {},
     "output_type": "execute_result"
    }
   ],
   "source": [
    "x-y"
   ]
  },
  {
   "cell_type": "code",
   "execution_count": 21,
   "id": "2cc8c249",
   "metadata": {},
   "outputs": [
    {
     "name": "stdout",
     "output_type": "stream",
     "text": [
      "-550\n"
     ]
    }
   ],
   "source": [
    "print(x)"
   ]
  },
  {
   "cell_type": "code",
   "execution_count": 22,
   "id": "f5e5a778",
   "metadata": {},
   "outputs": [],
   "source": [
    "x=x+600"
   ]
  },
  {
   "cell_type": "code",
   "execution_count": 23,
   "id": "643a1f05",
   "metadata": {},
   "outputs": [
    {
     "name": "stdout",
     "output_type": "stream",
     "text": [
      "50\n"
     ]
    }
   ],
   "source": [
    "print(x)"
   ]
  },
  {
   "cell_type": "code",
   "execution_count": 24,
   "id": "a7960e2c",
   "metadata": {},
   "outputs": [
    {
     "data": {
      "text/plain": [
       "-100"
      ]
     },
     "execution_count": 24,
     "metadata": {},
     "output_type": "execute_result"
    }
   ],
   "source": [
    "x-y"
   ]
  },
  {
   "cell_type": "code",
   "execution_count": 25,
   "id": "3f7f04be",
   "metadata": {},
   "outputs": [
    {
     "name": "stdout",
     "output_type": "stream",
     "text": [
      "50\n"
     ]
    }
   ],
   "source": [
    "print(x)"
   ]
  },
  {
   "cell_type": "code",
   "execution_count": 26,
   "id": "d0efa22d",
   "metadata": {},
   "outputs": [
    {
     "name": "stdout",
     "output_type": "stream",
     "text": [
      "150\n"
     ]
    }
   ],
   "source": [
    "print(y)"
   ]
  },
  {
   "cell_type": "code",
   "execution_count": 27,
   "id": "d8c61f3f",
   "metadata": {},
   "outputs": [
    {
     "data": {
      "text/plain": [
       "100"
      ]
     },
     "execution_count": 27,
     "metadata": {},
     "output_type": "execute_result"
    }
   ],
   "source": [
    "y-x"
   ]
  },
  {
   "cell_type": "code",
   "execution_count": 29,
   "id": "e11d5b38",
   "metadata": {},
   "outputs": [
    {
     "data": {
      "text/plain": [
       "100"
      ]
     },
     "execution_count": 29,
     "metadata": {},
     "output_type": "execute_result"
    }
   ],
   "source": [
    "y+z+w-x-50"
   ]
  },
  {
   "cell_type": "code",
   "execution_count": 30,
   "id": "5b3438d8",
   "metadata": {},
   "outputs": [],
   "source": [
    "# 2 floating-point variables and divide them by each other"
   ]
  },
  {
   "cell_type": "code",
   "execution_count": 31,
   "id": "a24bd39e",
   "metadata": {},
   "outputs": [],
   "source": [
    "a=25.5"
   ]
  },
  {
   "cell_type": "code",
   "execution_count": 32,
   "id": "78bce150",
   "metadata": {},
   "outputs": [],
   "source": [
    "b=5.5"
   ]
  },
  {
   "cell_type": "code",
   "execution_count": 33,
   "id": "e81eca6a",
   "metadata": {},
   "outputs": [
    {
     "data": {
      "text/plain": [
       "4.636363636363637"
      ]
     },
     "execution_count": 33,
     "metadata": {},
     "output_type": "execute_result"
    }
   ],
   "source": [
    "a/b"
   ]
  },
  {
   "cell_type": "code",
   "execution_count": 34,
   "id": "1652e2b0",
   "metadata": {},
   "outputs": [
    {
     "data": {
      "text/plain": [
       "float"
      ]
     },
     "execution_count": 34,
     "metadata": {},
     "output_type": "execute_result"
    }
   ],
   "source": [
    "type(a)"
   ]
  },
  {
   "cell_type": "code",
   "execution_count": 35,
   "id": "c78cf2fc",
   "metadata": {},
   "outputs": [],
   "source": [
    "# Construct a short word made of separate strings "
   ]
  },
  {
   "cell_type": "code",
   "execution_count": null,
   "id": "41e65727",
   "metadata": {},
   "outputs": [],
   "source": [
    "#string"
   ]
  },
  {
   "cell_type": "code",
   "execution_count": 36,
   "id": "cf51cbf8",
   "metadata": {},
   "outputs": [],
   "source": [
    "q='Hello,'"
   ]
  },
  {
   "cell_type": "code",
   "execution_count": 37,
   "id": "5ca3eac4",
   "metadata": {},
   "outputs": [],
   "source": [
    "m='World'"
   ]
  },
  {
   "cell_type": "code",
   "execution_count": 38,
   "id": "e833b187",
   "metadata": {},
   "outputs": [
    {
     "data": {
      "text/plain": [
       "'Hello,World'"
      ]
     },
     "execution_count": 38,
     "metadata": {},
     "output_type": "execute_result"
    }
   ],
   "source": [
    "q+m"
   ]
  },
  {
   "cell_type": "code",
   "execution_count": 39,
   "id": "0eae4975",
   "metadata": {},
   "outputs": [],
   "source": [
    "# Construct a short word made of separate strings"
   ]
  },
  {
   "cell_type": "code",
   "execution_count": 41,
   "id": "6ba066c1",
   "metadata": {},
   "outputs": [],
   "source": [
    "t='car'"
   ]
  },
  {
   "cell_type": "code",
   "execution_count": 42,
   "id": "f8fa035e",
   "metadata": {},
   "outputs": [],
   "source": [
    "v='eer'"
   ]
  },
  {
   "cell_type": "code",
   "execution_count": 43,
   "id": "5666b929",
   "metadata": {},
   "outputs": [
    {
     "data": {
      "text/plain": [
       "'career'"
      ]
     },
     "execution_count": 43,
     "metadata": {},
     "output_type": "execute_result"
    }
   ],
   "source": [
    "t+v"
   ]
  },
  {
   "cell_type": "code",
   "execution_count": 44,
   "id": "9e081adb",
   "metadata": {},
   "outputs": [],
   "source": [
    "# Construct 2 short sentences made of separate strings"
   ]
  },
  {
   "cell_type": "code",
   "execution_count": 45,
   "id": "7c05b503",
   "metadata": {},
   "outputs": [],
   "source": [
    "# life is too short, so enjoy it now"
   ]
  },
  {
   "cell_type": "code",
   "execution_count": 46,
   "id": "209178bb",
   "metadata": {},
   "outputs": [],
   "source": [
    "k='life is too short,'"
   ]
  },
  {
   "cell_type": "code",
   "execution_count": 47,
   "id": "64eeda37",
   "metadata": {},
   "outputs": [],
   "source": [
    "j='so enjoy it now'"
   ]
  },
  {
   "cell_type": "code",
   "execution_count": 48,
   "id": "50ea1f08",
   "metadata": {},
   "outputs": [
    {
     "data": {
      "text/plain": [
       "'life is too short,so enjoy it now'"
      ]
     },
     "execution_count": 48,
     "metadata": {},
     "output_type": "execute_result"
    }
   ],
   "source": [
    "k+j"
   ]
  },
  {
   "cell_type": "code",
   "execution_count": 49,
   "id": "f35f02dd",
   "metadata": {},
   "outputs": [
    {
     "data": {
      "text/plain": [
       "str"
      ]
     },
     "execution_count": 49,
     "metadata": {},
     "output_type": "execute_result"
    }
   ],
   "source": [
    "type(k)"
   ]
  },
  {
   "cell_type": "code",
   "execution_count": 51,
   "id": "1230c0a2",
   "metadata": {},
   "outputs": [],
   "source": [
    "# At the bottom of your file, include a command that makes a string appear 100 times"
   ]
  },
  {
   "cell_type": "code",
   "execution_count": 53,
   "id": "d6cf7d91",
   "metadata": {},
   "outputs": [],
   "source": [
    "g='elise'"
   ]
  },
  {
   "cell_type": "code",
   "execution_count": 54,
   "id": "9d1daf33",
   "metadata": {},
   "outputs": [
    {
     "data": {
      "text/plain": [
       "'eliseeliseeliseeliseeliseeliseeliseeliseeliseeliseeliseeliseeliseeliseeliseeliseeliseeliseeliseeliseeliseeliseeliseeliseeliseeliseeliseeliseeliseeliseeliseeliseeliseeliseeliseeliseeliseeliseeliseeliseeliseeliseeliseeliseeliseeliseeliseeliseeliseeliseeliseeliseeliseeliseeliseeliseeliseeliseeliseeliseeliseeliseeliseeliseeliseeliseeliseeliseeliseeliseeliseeliseeliseeliseeliseeliseeliseeliseeliseeliseeliseeliseeliseeliseeliseeliseeliseeliseeliseeliseeliseeliseeliseeliseeliseeliseeliseeliseeliseelise'"
      ]
     },
     "execution_count": 54,
     "metadata": {},
     "output_type": "execute_result"
    }
   ],
   "source": [
    "g*100"
   ]
  },
  {
   "cell_type": "code",
   "execution_count": null,
   "id": "f66f5813",
   "metadata": {},
   "outputs": [],
   "source": []
  }
 ],
 "metadata": {
  "kernelspec": {
   "display_name": "Python 3 (ipykernel)",
   "language": "python",
   "name": "python3"
  },
  "language_info": {
   "codemirror_mode": {
    "name": "ipython",
    "version": 3
   },
   "file_extension": ".py",
   "mimetype": "text/x-python",
   "name": "python",
   "nbconvert_exporter": "python",
   "pygments_lexer": "ipython3",
   "version": "3.9.13"
  }
 },
 "nbformat": 4,
 "nbformat_minor": 5
}
